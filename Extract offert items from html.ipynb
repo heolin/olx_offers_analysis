{
 "cells": [
  {
   "cell_type": "code",
   "execution_count": 1,
   "metadata": {
    "collapsed": true,
    "deletable": true,
    "editable": true
   },
   "outputs": [],
   "source": [
    "from BeautifulSoup import BeautifulSoup\n",
    "import re, os\n",
    "import pandas as pd"
   ]
  },
  {
   "cell_type": "code",
   "execution_count": 2,
   "metadata": {
    "collapsed": false,
    "deletable": true,
    "editable": true
   },
   "outputs": [],
   "source": [
    "provinces = dict(map(lambda x:x.split(','), open(\"./data/provinces.csv\").read().split('\\n')[:-1]))\n",
    "places_raw = map(lambda x:x.split(','), open(\"./data/places.csv\").read().split('\\n')[:-1])\n",
    "places = {}\n",
    "for place_id, province_id, place_name in places_raw:\n",
    "    places[place_name] = provinces[province_id]"
   ]
  },
  {
   "cell_type": "code",
   "execution_count": 20,
   "metadata": {
    "collapsed": false,
    "deletable": true,
    "editable": true
   },
   "outputs": [],
   "source": [
    "def get_province(city):\n",
    "    city = city.split(',')[0].strip()\n",
    "    return places.get(city)"
   ]
  },
  {
   "cell_type": "code",
   "execution_count": 21,
   "metadata": {
    "collapsed": false,
    "deletable": true,
    "editable": true
   },
   "outputs": [],
   "source": [
    "def extract_items_from_path(directory_path):\n",
    "    items = []\n",
    "    for file_name in os.listdir(directory_path):\n",
    "        if \"html\" in file_name:\n",
    "            fullpath = \"{}/{}\".format(directory_path, file_name)\n",
    "            html_data = open(fullpath).read().replace('\\n', '').replace('\\t', '')\n",
    "            items.extend(extract_items_from_html(html_data))\n",
    "    return items"
   ]
  },
  {
   "cell_type": "code",
   "execution_count": 22,
   "metadata": {
    "collapsed": false,
    "deletable": true,
    "editable": true
   },
   "outputs": [],
   "source": [
    "def extract_items_from_html(html_data):\n",
    "    soup = BeautifulSoup(html_data)\n",
    "    tables = soup.findAll(attrs={\"summary\" : u\"Ogłoszenie\"})\n",
    "    \n",
    "    items = []\n",
    "    for table in tables:\n",
    "        city = re.findall(\"\"\"<small class=\"breadcrumb x-normal\">[ ]*<span>[ ]*([^<]*)</span>[ ]*</small>\"\"\", str(table))[0].strip()\n",
    "        tag = re.findall(\"\"\"<small class=\"breadcrumb x-normal\">([^<]*)</small>\"\"\", str(table))[0].strip()\n",
    "        name = re.findall(\"\"\"<strong>([^<]*)</strong>\"\"\", str(table))[0]\n",
    "        items.append((name, tag, city))\n",
    "    return items"
   ]
  },
  {
   "cell_type": "code",
   "execution_count": null,
   "metadata": {
    "collapsed": false,
    "deletable": true,
    "editable": true
   },
   "outputs": [],
   "source": [
    "directory_path = \"../html/sell/moda\"\n",
    "change_items = extract_items_from_path(directory_path)\n",
    "data_frame = pd.DataFrame(change_items, columns=header)\n",
    "data_frame.to_csv(\"./data/items.sell.csv\")"
   ]
  },
  {
   "cell_type": "code",
   "execution_count": null,
   "metadata": {
    "collapsed": true,
    "deletable": true,
    "editable": true
   },
   "outputs": [],
   "source": [
    "header = [\"name\", \"tag\", \"city\"]"
   ]
  },
  {
   "cell_type": "code",
   "execution_count": null,
   "metadata": {
    "collapsed": false,
    "deletable": true,
    "editable": true
   },
   "outputs": [],
   "source": [
    "directory_path = \"../html/free/\"\n",
    "free_items = extract_items_from_path(directory_path)\n",
    "data_frame = pd.DataFrame(free_items, columns=header)\n",
    "data_frame.to_csv(\"./data/items.free.csv\")"
   ]
  },
  {
   "cell_type": "code",
   "execution_count": null,
   "metadata": {
    "collapsed": false,
    "deletable": true,
    "editable": true
   },
   "outputs": [],
   "source": [
    "directory_path = \"../html/change/\"\n",
    "change_items = extract_items_from_path(directory_path)\n",
    "data_frame = pd.DataFrame(change_items, columns=header)\n",
    "data_frame.to_csv(\"./data/items.change.csv\")"
   ]
  },
  {
   "cell_type": "code",
   "execution_count": 12,
   "metadata": {
    "collapsed": false,
    "deletable": true,
    "editable": true
   },
   "outputs": [],
   "source": [
    "sell_items = {}\n",
    "for dir_name in os.listdir(\"../html/sell/\"):\n",
    "    directory_path = \"../html/sell/{}\".format(dir_name)\n",
    "    sell_items[dir_name] = extract_items_from_path(directory_path)"
   ]
  },
  {
   "cell_type": "code",
   "execution_count": 14,
   "metadata": {
    "collapsed": false,
    "deletable": true,
    "editable": true
   },
   "outputs": [],
   "source": [
    "items = []\n",
    "for dir_name in sell_items:\n",
    "    items.extend(sell_items[dir_name])"
   ]
  },
  {
   "cell_type": "code",
   "execution_count": 16,
   "metadata": {
    "collapsed": false,
    "deletable": true,
    "editable": true
   },
   "outputs": [],
   "source": [
    "data_frame = pd.DataFrame(items, columns=header)\n",
    "data_frame.to_csv(\"./data/items.sell.csv\")"
   ]
  },
  {
   "cell_type": "code",
   "execution_count": 21,
   "metadata": {
    "collapsed": true,
    "deletable": true,
    "editable": true
   },
   "outputs": [],
   "source": [
    "df=pd.read_csv(\"./data/items.sell.csv\")"
   ]
  },
  {
   "cell_type": "code",
   "execution_count": 29,
   "metadata": {
    "collapsed": false,
    "deletable": true,
    "editable": true
   },
   "outputs": [],
   "source": [
    "categories=  map(lambda x:x.split(\" » \")[0], list(df.tag))"
   ]
  },
  {
   "cell_type": "code",
   "execution_count": 36,
   "metadata": {
    "collapsed": false,
    "deletable": true,
    "editable": true
   },
   "outputs": [
    {
     "name": "stdout",
     "output_type": "stream",
     "text": [
      "Działki 2162\n",
      "Maszyny rolnicze 2996\n",
      "Książki 14720\n",
      "Zwierzęta 10285\n",
      "Opony i Felgi 3631\n",
      "Motocykle i Skutery 538\n",
      "Akwarystyka 4459\n",
      "Dostawcze i Ciężarowe 717\n",
      "Nieruchomości 3603\n",
      "Koty 1057\n",
      "Domy 2174\n",
      "Psy 5081\n",
      "Części samochodowe 7971\n",
      "Elektronika 31952\n",
      "Dla Dzieci 20913\n",
      "Telefony komórkowe 3507\n",
      "Komputery 5706\n",
      "Motoryzacja 1877\n",
      "Usługi ślubne 3467\n",
      "Meble 4735\n",
      "Mieszkania 7072\n",
      "Korepetycje 1093\n",
      "Biura i Lokale 3892\n",
      "Kursy i Warsztaty 689\n",
      "Wyposażenie wnętrz 6888\n",
      "Moda ślubna 15845\n",
      "Pozostałe nieruchomości 359\n",
      "Giełda zwierząt 1334\n",
      "Akcesoria ślubne 1210\n",
      "Przyczepy i Pojazdy użytkowe 528\n",
      "Hale i Magazyny 814\n",
      "Muzyka i Edukacja 3991\n",
      "Garaże i Parkingi 680\n",
      "Sport i Hobby 20958\n",
      "Dom i Ogród 9329\n",
      "Samochody osobowe 5150\n",
      "Usługi i Firmy 20914\n",
      "Rolnictwo 16519\n"
     ]
    }
   ],
   "source": [
    "import collections\n",
    "counter=collections.Counter(categories)\n",
    "for a, b in (counter).items():\n",
    "    print a, b"
   ]
  }
 ],
 "metadata": {
  "kernelspec": {
   "display_name": "Python 2",
   "language": "python",
   "name": "python2"
  },
  "language_info": {
   "codemirror_mode": {
    "name": "ipython",
    "version": 2
   },
   "file_extension": ".py",
   "mimetype": "text/x-python",
   "name": "python",
   "nbconvert_exporter": "python",
   "pygments_lexer": "ipython2",
   "version": "2.7.12"
  }
 },
 "nbformat": 4,
 "nbformat_minor": 2
}
