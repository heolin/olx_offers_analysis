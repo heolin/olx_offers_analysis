{
 "cells": [
  {
   "cell_type": "code",
   "execution_count": 39,
   "metadata": {
    "collapsed": true,
    "deletable": true,
    "editable": true
   },
   "outputs": [],
   "source": [
    "from BeautifulSoup import BeautifulSoup\n",
    "import re, os\n",
    "import pandas as pd"
   ]
  },
  {
   "cell_type": "code",
   "execution_count": 40,
   "metadata": {
    "collapsed": true,
    "deletable": true,
    "editable": true
   },
   "outputs": [],
   "source": [
    "def extract_urls_from_path(directory_path):\n",
    "    urls = []\n",
    "    for file_name in os.listdir(directory_path):\n",
    "        if \"html\" in file_name:\n",
    "            fullpath = \"{}/{}\".format(directory_path, file_name)\n",
    "            html_data = open(fullpath).read().replace('\\n', '').replace('\\t', '')\n",
    "            urls.extend(extract_urls_from_html(html_data))\n",
    "    return urls"
   ]
  },
  {
   "cell_type": "code",
   "execution_count": 41,
   "metadata": {
    "collapsed": true,
    "deletable": true,
    "editable": true
   },
   "outputs": [],
   "source": [
    "def extract_urls_from_html(html_data):\n",
    "    soup = BeautifulSoup(html_data)\n",
    "    tables = soup.findAll(attrs={\"summary\" : u\"Ogłoszenie\"})\n",
    "    \n",
    "    urls = []\n",
    "    for table in tables:\n",
    "        url = re.findall('href=\"([^\"]*)', str(table))[0].split('#')[0]\n",
    "        urls.append(url)\n",
    "    return urls"
   ]
  },
  {
   "cell_type": "code",
   "execution_count": 42,
   "metadata": {
    "collapsed": false,
    "deletable": true,
    "editable": true
   },
   "outputs": [],
   "source": [
    "urls = extract_urls_from_path(\"../html/change/\")"
   ]
  },
  {
   "cell_type": "code",
   "execution_count": 45,
   "metadata": {
    "collapsed": false,
    "deletable": true,
    "editable": true
   },
   "outputs": [],
   "source": [
    "output_file = open(\"./urls/change.detail.urls\", 'w')\n",
    "output_file.write(\"\\n\".join(urls))\n",
    "output_file.close()\n"
   ]
  },
  {
   "cell_type": "code",
   "execution_count": null,
   "metadata": {
    "collapsed": true,
    "deletable": true,
    "editable": true
   },
   "outputs": [],
   "source": []
  }
 ],
 "metadata": {
  "kernelspec": {
   "display_name": "Python 2",
   "language": "python",
   "name": "python2"
  },
  "language_info": {
   "codemirror_mode": {
    "name": "ipython",
    "version": 2
   },
   "file_extension": ".py",
   "mimetype": "text/x-python",
   "name": "python",
   "nbconvert_exporter": "python",
   "pygments_lexer": "ipython2",
   "version": "2.7.12"
  }
 },
 "nbformat": 4,
 "nbformat_minor": 2
}
